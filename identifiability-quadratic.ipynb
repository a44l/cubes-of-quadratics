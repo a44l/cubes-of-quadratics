{
 "cells": [
  {
   "cell_type": "code",
   "execution_count": 156,
   "metadata": {},
   "outputs": [],
   "source": [
    "using LinearAlgebra, DynamicPolynomials, SparseArrays, DataFrames, PrettyTables\n",
    "include(\"methods.jl\");"
   ]
  },
  {
   "cell_type": "markdown",
   "metadata": {},
   "source": [
    "## Identifiability up to rank ${n\\choose 2} + 1$\n",
    "\n",
    "Let \n",
    "$$\n",
    "    V = \\mathbb \\{p^3 \\mid p \\in \\mathbb P(S^2(\\mathbb C^n)) \\}\n",
    "$$\n",
    "\n",
    "Consider the specific instance of ${n\\choose 2}$ quadratics\n",
    "$$\n",
    "    q_{ij} = (X_i + X_j)^2, \\qquad (i, j \\in \\{1,\\ldots, n\\}, i < j)\n",
    "$$\n",
    "Let $m:={n\\choose 2} + 1$ and $q = (q_1, \\ldots, q_{m})$ be a vector whose entries are $q_1 := X_1^2 $ and the $q_{ij}$. We claim that \n",
    "1. the tangent spaces $T_{q_1} V, \\ldots, T_{q_m} V$ are skew.\n",
    "2. the contact locus\n",
    "$$\n",
    "\\mathcal C([q_1], \\ldots, [q_{m}]) = \\{p \\in \\mathbb P(S^2(\\mathbb C^n)) \\mid T_pV \\subseteq \\sum_{k=1}^m T_{[q_k]}V \\}\n",
    "$$\n",
    "has (projective) dimension zero locally around each of $[q_1],\\ldots,[q_m]$. NB: Since our specific instance is symmetric under permutations of $\\{2,\\ldots, m\\}$, it suffices to compute the dimension of $\\mathcal C([q_1], \\ldots, [q_{m}])$ at $X_1^2$, $(X_1 + X_2)^2$ and $(X_2 + X_3)^2$. \n",
    "\n",
    "We start by constructing the quadratics $q_1, \\ldots, q_m$. All computations will be done in affine language. "
   ]
  },
  {
   "cell_type": "code",
   "execution_count": 147,
   "metadata": {},
   "outputs": [
    {
     "data": {
      "text/plain": [
       "11-element Vector{Polynomial{true, Int64}}:\n",
       " X₁² + 2X₁X₂ + X₂²\n",
       " X₁² + 2X₁X₃ + X₃²\n",
       " X₂² + 2X₂X₃ + X₃²\n",
       " X₁² + 2X₁X₄ + X₄²\n",
       " X₂² + 2X₂X₄ + X₄²\n",
       " X₃² + 2X₃X₄ + X₄²\n",
       " X₁² + 2X₁X₅ + X₅²\n",
       " X₂² + 2X₂X₅ + X₅²\n",
       " X₃² + 2X₃X₅ + X₅²\n",
       " X₄² + 2X₄X₅ + X₅²\n",
       " X₁²"
      ]
     },
     "metadata": {},
     "output_type": "display_data"
    }
   ],
   "source": [
    "n = 5;\n",
    "@polyvar X[1:n] # base variables on ℂⁿ\n",
    "N = length(monomials(X, 6)) # 210 for n=5\n",
    "@polyvar Y[1:N] # variables for the space S⁶(ℂⁿ)\n",
    "M = length(monomials(X, 2)) # 15 for n=5\n",
    "@polyvar Z[1:M] # variables for the space S²(ℂⁿ)\n",
    "\n",
    "q = [(X[i] + X[j])^2 for i=1:n, j=1:n if i<j] \n",
    "push!(q, X[1]^2)\n",
    "\n",
    "m=length(q) # should be binomial(n, 2) + 1 \n",
    "display(q)"
   ]
  },
  {
   "cell_type": "code",
   "execution_count": 148,
   "metadata": {},
   "outputs": [],
   "source": [
    "# The constructed set is stable under substitution: Take any variable X[i] where i is not 1 and substitue X[i] by X[1]\n",
    "# Then we get a set which is structurally the same but in one variable less.\n",
    "# To try it out, uncomment the following two lines of code. Formal proof is in the mathematical part. \n",
    "\n",
    "# q = unique([subs(g, X[n]=>X[1]) for g in q])\n",
    "# m = length(q)"
   ]
  },
  {
   "cell_type": "code",
   "execution_count": 149,
   "metadata": {},
   "outputs": [],
   "source": [
    "A = tangent_space(q, X)\n",
    "(n_rows, n_cols) = size(A)"
   ]
  },
  {
   "cell_type": "code",
   "execution_count": 150,
   "metadata": {},
   "outputs": [
    {
     "name": "stdout",
     "output_type": "stream",
     "text": [
      "┌───────────────────────────────────────┬─────┐\n",
      "│ 1: Expected Dimension of Secant       │ 165 │\n",
      "│ 2: Actual Dimension of Secant         │ 165 │\n",
      "│ 3: Ambient Space Dimension (S⁶(ℂⁿ))   │ 210 │\n",
      "│ 4: Parameter Space Dimension (S²(ℂⁿ)) │ 15  │\n",
      "└───────────────────────────────────────┴─────┘\n"
     ]
    }
   ],
   "source": [
    "df_skewtangents = DataFrame(:expected_dimension => m*M, :actual_dimension => rank(Matrix(A)))\n",
    "dict_skewtangents = Dict(\"1: Expected Dimension of Secant\" => m*M, \n",
    "                         \"2: Actual Dimension of Secant\" =>rank(Matrix(A)),\n",
    "                         \"3: Ambient Space Dimension (S⁶(ℂⁿ))\" => N, \n",
    "                         \"4: Parameter Space Dimension (S²(ℂⁿ))\" => M)\n",
    "pretty_table(dict_skewtangents, noheader=true, alignment=:l, sortkeys=true)"
   ]
  },
  {
   "cell_type": "markdown",
   "metadata": {},
   "source": [
    "The above calculation shows that the tangent spaces $T_{[q_1]} V,\\ldots, T_{[q_m]} V$ are skew. For the contact locus, we first construct linear equations for the subspace $\\sum_{k=1}^m T_{[q_k]}V $."
   ]
  },
  {
   "cell_type": "code",
   "execution_count": 151,
   "metadata": {},
   "outputs": [],
   "source": [
    "Q=qr(Matrix(A)).Q\n",
    "equations = (@view Q[:, n_cols+1:n_rows])';"
   ]
  },
  {
   "cell_type": "markdown",
   "metadata": {},
   "source": [
    "Now, for each of $q_1 = (X_1 + X_2)^2$, $q_2 = (X_2 + X_3)^2$ and $q_{11} = X_1^2$, we check that the affine contact locus consists locally only of the line through $q_1, q_2$ or $q_{11}$, respectively. Observe that each of the linear equations $f$ for $\\sum_{k=1}^m T_{q_k}V$ that we computed earlier gives ${n\\choose 2}$ quadratic equations \n",
    "$$\n",
    "    (\\ast) \\qquad f(p^2 X_iX_j) = 0, \\qquad p\\in S^2(\\mathbb C ^n), i, j \\in \\{1,\\ldots, n\\}\n",
    "$$\n",
    "in $p$ which alltogether describe the containment $T_p V \\subseteq \\sum_{k=1}^m T_{q_k}V$. Deriving the equations $(\\ast)$ by $p$ gives a system of linear equations $L_p$ in $p$ which describe a supervariety $W$ of $T_{[p]} \\mathcal C([q_1],\\ldots, [q_m])$. \n",
    "Thus we may upper-bound the dimension of $C([q_1],\\ldots, [q_m])$ at any given point $p$ by the dimension of the kernel of $L_p$ minus one.\n",
    "\n",
    "Instead of performing the procedure of $(\\ast)$ for **all** 45 linear equations for $\\sum_{k=1}^m T_{q_k}V$, note that we can decide to use less: In fact, we only use two. This might a priori give us a worse upper bound, but it will turn out that the 30 quadratic equations obtained via $(\\ast)$ from two linear ones are already sufficient to upper bound the dimension by 1 at all points of interests, which is what we want.  \n"
   ]
  },
  {
   "cell_type": "code",
   "execution_count": 152,
   "metadata": {},
   "outputs": [],
   "source": [
    "𝒟 = Dict([mon=>i for (mon, i) in zip(monomials(X, 6), 1:N)])\n",
    "\"\"\" \n",
    "`x_coefficients(poly)`\n",
    "Takes a polynomial `poly` in X, Z and returns coefficients only wrt to X (as polynomials in Z) \n",
    "\"\"\"\n",
    "x_coefficients = function(poly)\n",
    "    v = [Polynomial(Z[1]^0-1) for i=1:N] # array initialised with zero polynomials\n",
    "    hess = (1/2).*differentiate(poly, Z, Val{2}())  # first remove the Z variables. We get them back later from the position in the matrix. \n",
    "    indices = vec([𝒟[a[1]] for a in monomials.(hess)])      # each entry in hess is a degree 6 monomial in X. We convert these to positions in the resulting vector \n",
    "    values  = vec([c[1] for c in coefficients.(hess)].*(Z*Z'))\n",
    "    for (idx, i) in zip(indices, 1:M^2)\n",
    "        v[idx] += values[i] \n",
    "    end\n",
    "    return v\n",
    "end;"
   ]
  },
  {
   "cell_type": "code",
   "execution_count": 154,
   "metadata": {},
   "outputs": [],
   "source": [
    "# plug in polynomials of the kind f²XᵢXⱼ (where f is a quadratic with variable coefficients) into the equations:\n",
    "p = Z⋅monomials(X, 2); # quadratic with unknown coefficients \n",
    "\n",
    "# compute the embedding from S²(ℂ)² to subspaces of S⁶(ℂ) that maps p² to the space spanned by p²XᵢXⱼ\n",
    "# x_coefficients is used to represent the p²XᵢXⱼ w.r.t. the standard basis monomials(X, 6) of S⁶(ℂ) \n",
    "P = [x_coefficients(p^2*X[i]*X[j]) for i=1:n, j=1:n if i≤j];\n",
    "\n",
    "quadratic_equations = [(@view equations[i, :])⋅poly for poly in P, i=1:2];"
   ]
  },
  {
   "cell_type": "code",
   "execution_count": 155,
   "metadata": {},
   "outputs": [
    {
     "name": "stdout",
     "output_type": "stream",
     "text": [
      "┌─────────────────────────┬─────┬────────────┬────────────┐\n",
      "│\u001b[1m                   Point \u001b[0m│\u001b[1m X₁² \u001b[0m│\u001b[1m (X₁ + X₂)² \u001b[0m│\u001b[1m (X₂ + X₃)² \u001b[0m│\n",
      "├─────────────────────────┼─────┼────────────┼────────────┤\n",
      "│ Contact Locus Dimension │   1 │          1 │          1 │\n",
      "└─────────────────────────┴─────┴────────────┴────────────┘\n"
     ]
    }
   ],
   "source": [
    "function ts_eq_at(p, variety_eq) \n",
    "    ts_eq = differentiate(variety_eq, Z) # computes one equation for the tangent space as a (gradient) vector whose entries are deg 1 polynomials\n",
    "    return [f(Z=>coefficients(p, monomials(X, 2))) for f in ts_eq] # evaluates the gradient at specific point to obtain a column vector describing the linear equation for the tangent space at that point\n",
    "end\n",
    "\n",
    "function L(p)\n",
    "    ts_eqs = [];\n",
    "    for quad_eq in quadratic_equations\n",
    "        push!(ts_eqs, ts_eq_at(p, quad_eq))\n",
    "    end\n",
    "    return hcat(ts_eqs...)\n",
    "end\n",
    "\n",
    "df_cl_dimensions = DataFrame(\"Point\" => \"Contact Locus Dimension\", \"X₁²\" => M-rank(L(q[11])),  \"(X₁ + X₂)²\" => M-rank(L(q[1])), \"(X₂ + X₃)²\" => M-rank(L(q[2])))\n",
    "pretty_table(df_cl_dimensions, nosubheader=true)\n"
   ]
  },
  {
   "cell_type": "markdown",
   "metadata": {},
   "source": [
    "The computation shows that locally around $X_1^2, (X_1 + X_2)^2$ and $(X_2 + X_3)^2$, the affine cone of the contact locus at $q_1,\\ldots, q_m$ consists only of the lines through $X_1^2, (X_1 + X_2)^2$ and $(X_2 + X_3)^2$, respectively, which is exactly what we claimed. "
   ]
  }
 ],
 "metadata": {
  "kernelspec": {
   "display_name": "Julia 1.6.3",
   "language": "julia",
   "name": "julia-1.6"
  },
  "language_info": {
   "file_extension": ".jl",
   "mimetype": "application/julia",
   "name": "julia",
   "version": "1.6.3"
  }
 },
 "nbformat": 4,
 "nbformat_minor": 4
}
